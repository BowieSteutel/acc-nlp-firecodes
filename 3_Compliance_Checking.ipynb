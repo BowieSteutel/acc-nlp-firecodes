{
  "nbformat": 4,
  "nbformat_minor": 0,
  "metadata": {
    "colab": {
      "provenance": [],
      "collapsed_sections": [
        "FV8FgZ0enJX9"
      ],
      "toc_visible": true,
      "mount_file_id": "1hS2z78OsEypbCV6URthL4Re5W5K633_n",
      "authorship_tag": "ABX9TyNMai54thykON63z/d1zous",
      "include_colab_link": true
    },
    "kernelspec": {
      "name": "python3",
      "display_name": "Python 3"
    },
    "language_info": {
      "name": "python"
    }
  },
  "cells": [
    {
      "cell_type": "markdown",
      "metadata": {
        "id": "view-in-github",
        "colab_type": "text"
      },
      "source": [
        "<a href=\"https://colab.research.google.com/github/BowieSteutel/acc-nlp-firecodes/blob/main/3_Compliance_Checking.ipynb\" target=\"_parent\"><img src=\"https://colab.research.google.com/assets/colab-badge.svg\" alt=\"Open In Colab\"/></a>"
      ]
    },
    {
      "cell_type": "markdown",
      "source": [
        "\n",
        "\n",
        "# **Module 3 - Compliance Checking**\n",
        "\n"
      ],
      "metadata": {
        "id": "dLp-pF81dzgJ"
      }
    },
    {
      "cell_type": "markdown",
      "source": [
        "# **Prepare libaries**"
      ],
      "metadata": {
        "id": "FV8FgZ0enJX9"
      }
    },
    {
      "cell_type": "code",
      "source": [
        "# Import standard libraries\n",
        "import time # for measuring required time for functions"
      ],
      "metadata": {
        "id": "_mUns1POnQCQ"
      },
      "execution_count": 19,
      "outputs": []
    },
    {
      "cell_type": "code",
      "source": [
        "# pySHACL (for SHACL reasoning)\n",
        "!pip install pyshacl --quiet\n",
        "#!pip install --upgrade pyshacl\n",
        "import pyshacl"
      ],
      "metadata": {
        "id": "OLyeYlvYnJNg"
      },
      "execution_count": 20,
      "outputs": []
    },
    {
      "cell_type": "code",
      "source": [
        "# RDFLib (for ontologies & namespaces)\n",
        "!pip install rdflib --quiet\n",
        "import rdflib\n",
        "\n",
        "from rdflib import Graph, Literal, URIRef, Namespace\n",
        "from rdflib import RDF, RDFS, XSD, SH, OWL"
      ],
      "metadata": {
        "id": "aC5So0hgnAXU"
      },
      "execution_count": 21,
      "outputs": []
    },
    {
      "cell_type": "markdown",
      "source": [
        "---\n",
        "# **Prepare inputs**"
      ],
      "metadata": {
        "id": "70VMK7QblxJ3"
      }
    },
    {
      "cell_type": "code",
      "source": [
        "# @title Change root directory (update after downloading)\n",
        "\n",
        "root_directory = \"/content/drive/MyDrive/FINAL_CODE_THESIS\" #  @param {\"type\":\"string\", \"placeholder\":\"\"}\n",
        "import sys\n",
        "from pathlib import Path\n",
        "if 'google.colab' in sys.modules:\n",
        "    from google.colab import drive\n",
        "    drive.mount('/content/drive', force_remount=False)\n",
        "    %cd {root_directory}"
      ],
      "metadata": {
        "colab": {
          "base_uri": "https://localhost:8080/"
        },
        "cellView": "form",
        "id": "rnsV4psd0yzN",
        "outputId": "2b5c64ac-eeeb-4952-89e4-394143b8df69"
      },
      "execution_count": 22,
      "outputs": [
        {
          "output_type": "stream",
          "name": "stdout",
          "text": [
            "Drive already mounted at /content/drive; to attempt to forcibly remount, call drive.mount(\"/content/drive\", force_remount=True).\n",
            "/content/drive/MyDrive/FINAL_CODE_THESIS\n"
          ]
        }
      ]
    },
    {
      "cell_type": "code",
      "source": [
        "# @title Define filepaths\n",
        "# Data graphs\n",
        "use_case_correct = \"output/use_case_correct.ttl\" # @param {type:\"string\", placeholder:\"(ttl)\"}\n",
        "use_case_correct_materialized = \"output/use_case_correct_materialized.ttl\" # @param {type:\"string\", placeholder:\"(ttl)\"}\n",
        "use_case_incorrect = \"output/use_case_incorrect.ttl\" # @param {type:\"string\", placeholder:\"(ttl)\"}\n",
        "use_case_incorrect_materialized = \"output/use_case_incorrect_materialized.ttl\" # @param {type:\"string\", placeholder:\"(ttl)\"}\n",
        "\n",
        "# Shapes graph\n",
        "shapes_path = \"output/shapes.ttl\" # @param {type:\"string\", placeholder:\"(ttl)\"}\n",
        "\n",
        "# Ontologies (optional, for real-time inference)\n",
        "ont_path_custom = \"input/custom_ontology.ttl\" # @param {type:\"string\", placeholder:\"(ttl)\"}\n",
        "ont_path_alignment = \"input/ontology_alignment.ttl\" # @param {type:\"string\", placeholder:\"(ttl)\"}"
      ],
      "metadata": {
        "cellView": "form",
        "id": "QzCQaNjxohWY"
      },
      "execution_count": 23,
      "outputs": []
    },
    {
      "cell_type": "markdown",
      "source": [
        "---\n",
        "# **Load graphs**"
      ],
      "metadata": {
        "id": "JSbhorWoJjiz"
      }
    },
    {
      "cell_type": "markdown",
      "source": [
        "## Parse data graphs"
      ],
      "metadata": {
        "id": "a395ekI-rksQ"
      }
    },
    {
      "cell_type": "code",
      "source": [
        "data_graph_correct = Graph()\n",
        "data_graph_correct.parse(use_case_correct, format=\"turtle\")\n",
        "print(data_graph_correct.serialize(format=\"turtle\")[:1000])"
      ],
      "metadata": {
        "colab": {
          "base_uri": "https://localhost:8080/"
        },
        "id": "sXFF5UnXutf0",
        "outputId": "25fca645-3b61-4134-8a20-e1b49f9dc3c7"
      },
      "execution_count": 24,
      "outputs": [
        {
          "output_type": "stream",
          "name": "stdout",
          "text": [
            "@prefix beo: <https://w3id.org/beo#> .\n",
            "@prefix bot: <https://w3id.org/bot#> .\n",
            "@prefix ex: <https://example.org/ns#> .\n",
            "@prefix ifc: <https://w3id.org/ifc/IFC4X3_ADD2#> .\n",
            "@prefix inst: <https://linkedbuildingdata.net/ifc/resources20250531_181504/> .\n",
            "@prefix props: <https://w3id.org/props#> .\n",
            "@prefix pset: <https://example.org/pset#> .\n",
            "@prefix qudt: <http://qudt.org/schema/shacl/qudt/> .\n",
            "@prefix rdfs: <http://www.w3.org/2000/01/rdf-schema#> .\n",
            "@prefix unit: <https://qudt.org/vocab/unit/> .\n",
            "@prefix xsd: <http://www.w3.org/2001/XMLSchema#> .\n",
            "\n",
            "inst:FlowTerminal_33464 a bot:Element,\n",
            "        ifc:IfcFlowTerminal ;\n",
            "    rdfs:label \"Plumbing_Fixtures_WC:540x360x410mm:367489\"^^xsd:string ;\n",
            "    ex:hasMaterial inst:Material_26888,\n",
            "        inst:Material_33448 ;\n",
            "    pset:Constraints [ rdfs:label \"Constraints\"^^xsd:string ;\n",
            "            props:DefaultElevation [ qudt:NumericValue 0e+00 ;\n",
            "                    qudt:hasUnit unit:M ] ;\n",
            "            props:ElevationFromLevel [ qudt:NumericValue 0e+00 ;\n",
            "           \n"
          ]
        }
      ]
    },
    {
      "cell_type": "code",
      "source": [
        "data_graph_incorrect = Graph()\n",
        "data_graph_incorrect.parse(use_case_incorrect, format=\"turtle\")\n",
        "print(data_graph_incorrect.serialize(format=\"turtle\")[:1000])"
      ],
      "metadata": {
        "colab": {
          "base_uri": "https://localhost:8080/"
        },
        "id": "h-_P9-YVu20v",
        "outputId": "aaa3cb7b-8179-475c-dbd5-1fa450dc1cde"
      },
      "execution_count": 25,
      "outputs": [
        {
          "output_type": "stream",
          "name": "stdout",
          "text": [
            "@prefix beo: <https://w3id.org/beo#> .\n",
            "@prefix bot: <https://w3id.org/bot#> .\n",
            "@prefix ex: <https://example.org/ns#> .\n",
            "@prefix ifc: <https://w3id.org/ifc/IFC4X3_ADD2#> .\n",
            "@prefix inst: <https://linkedbuildingdata.net/ifc/resources20250531_181534/> .\n",
            "@prefix props: <https://w3id.org/props#> .\n",
            "@prefix pset: <https://example.org/pset#> .\n",
            "@prefix qudt: <http://qudt.org/schema/shacl/qudt/> .\n",
            "@prefix rdfs: <http://www.w3.org/2000/01/rdf-schema#> .\n",
            "@prefix unit: <https://qudt.org/vocab/unit/> .\n",
            "@prefix xsd: <http://www.w3.org/2001/XMLSchema#> .\n",
            "\n",
            "inst:FlowTerminal_33481 a bot:Element,\n",
            "        ifc:IfcFlowTerminal ;\n",
            "    rdfs:label \"Plumbing_Fixtures_WC:540x360x410mm:367489\"^^xsd:string ;\n",
            "    ex:hasMaterial inst:Material_26905,\n",
            "        inst:Material_33465 ;\n",
            "    pset:Constraints [ rdfs:label \"Constraints\"^^xsd:string ;\n",
            "            props:DefaultElevation [ qudt:NumericValue 0e+00 ;\n",
            "                    qudt:hasUnit unit:M ] ;\n",
            "            props:ElevationFromLevel [ qudt:NumericValue 0e+00 ;\n",
            "           \n"
          ]
        }
      ]
    },
    {
      "cell_type": "code",
      "source": [
        "data_graph_correct_materialized = Graph()\n",
        "data_graph_correct_materialized.parse(use_case_correct_materialized, format=\"turtle\")\n",
        "print(len(data_graph_correct_materialized))"
      ],
      "metadata": {
        "colab": {
          "base_uri": "https://localhost:8080/"
        },
        "id": "_H4KmbcPJTSg",
        "outputId": "79eae42f-e233-48d7-86e0-612c8cff2670"
      },
      "execution_count": 26,
      "outputs": [
        {
          "output_type": "stream",
          "name": "stdout",
          "text": [
            "12226\n"
          ]
        }
      ]
    },
    {
      "cell_type": "code",
      "source": [
        "data_graph_incorrect_materialized = Graph()\n",
        "data_graph_incorrect_materialized.parse(use_case_incorrect_materialized, format=\"turtle\")\n",
        "print(len(data_graph_incorrect_materialized))"
      ],
      "metadata": {
        "colab": {
          "base_uri": "https://localhost:8080/"
        },
        "id": "TvQF3jIQJYGv",
        "outputId": "a0fad967-16c7-4b22-914c-92d4a2204e4c"
      },
      "execution_count": 27,
      "outputs": [
        {
          "output_type": "stream",
          "name": "stdout",
          "text": [
            "12218\n"
          ]
        }
      ]
    },
    {
      "cell_type": "markdown",
      "source": [
        "## Parse shapes graph"
      ],
      "metadata": {
        "id": "1dQjyc6urnWp"
      }
    },
    {
      "cell_type": "code",
      "source": [
        "# load the shapes graph as a string\n",
        "with open(shapes_path, \"r\", encoding=\"utf-8\") as file:\n",
        "    shapes_graph = file.read()\n",
        "\n",
        "# show shapes graph\n",
        "print(shapes_graph)"
      ],
      "metadata": {
        "colab": {
          "base_uri": "https://localhost:8080/"
        },
        "id": "D1IQK2e-vNye",
        "outputId": "197d17b2-504a-41b2-e8d2-d79b9762148a"
      },
      "execution_count": 28,
      "outputs": [
        {
          "output_type": "stream",
          "name": "stdout",
          "text": [
            "\n",
            "bbl:C4_S4_2_P4_2_8_A4_50_SUB1\n",
            "    a sh:NodeShape ;\n",
            "    rdfs:label \"Article 4.50(1)\" ;\n",
            "    rdfs:comment \"\"\"A closed space is in a fire compartment.\"\"\"@en ;\n",
            "    rdfs:comment \"\"\"Een besloten ruimte ligt in een brandcompartiment.\"\"\"@nl ;\n",
            "    rdfs:seeAlso <https://wetten.overheid.nl/BWBR0041297/2024-08-01#Hoofdstuk4_Afdeling4.2_Paragraaf4.2.8_Artikel4.50_Lid1> ;\n",
            "        sh:target [\n",
            "            a sh:SPARQLTarget ;\n",
            "                sh:select \"\"\"\n",
            "                    SELECT DISTINCT ?this WHERE {\n",
            "                    {  ?this a bot:Space . \n",
            "                      ?this pset:Other ?pset . \n",
            "                      ?pset props:Isenclosed ?prop . \n",
            "                    }\n",
            "                }    \n",
            "                \"\"\" ;\n",
            "        ]     ;\n",
            "        sh:property bbl:C4_S4_2_P4_2_8_A4_50_SUB1_PROP1 . \n",
            "\n",
            "bbl:C4_S4_2_P4_2_8_A4_50_SUB1_PROP1\n",
            "    a sh:PropertyShape ;\n",
            "    rdfs:label \"Article 4.50(1)\" ;\n",
            "    rdfs:comment \"\"\"A closed space is in a fire compartment.\"\"\"@en ;\n",
            "    rdfs:comment \"\"\"Een besloten ruimte ligt in een brandcompartiment.\"\"\"@nl ;\n",
            "    rdfs:seeAlso <https://wetten.overheid.nl/BWBR0041297/2024-08-01#Hoofdstuk4_Afdeling4.2_Paragraaf4.2.8_Artikel4.50_Lid1> ;\n",
            "    sh:path ex:locatedInCompartment ;\n",
            "    sh:class ex:FireCompartment ;\n",
            "    sh:minCount 1 .\n",
            "\n",
            "\n",
            "bbl:C4_S4_2_P4_2_8_A4_50_SUB3\n",
            "    a sh:NodeShape ;\n",
            "    rdfs:label \"Article 4.50(3)\" ;\n",
            "    rdfs:comment \"\"\"A road tunnel tube with a length of more than 250 m is in a fire compartment.\"\"\"@en ;\n",
            "    rdfs:comment \"\"\"Een wegtunnelbuis met een lengte van meer dan 250 m ligt in een brandcompartiment.\"\"\"@nl ;\n",
            "    rdfs:seeAlso <https://wetten.overheid.nl/BWBR0041297/2024-08-01#Hoofdstuk4_Afdeling4.2_Paragraaf4.2.8_Artikel4.50_Lid3> ;\n",
            "        sh:target [\n",
            "            a sh:SPARQLTarget ;\n",
            "                sh:select \"\"\"\n",
            "                    SELECT DISTINCT ?this WHERE {\n",
            "                    {  ?this a ifc:IfcRoad . \n",
            "                      ?this pset:Dimensions ?pset . \n",
            "                      ?pset props:Length ?prop . \n",
            "                      ?prop qudt:NumericValue ?num. \n",
            "                      FILTER ( ?num > 250.0 ) \n",
            "                    }\n",
            "                }    \n",
            "                \"\"\" ;\n",
            "        ]     ;\n",
            "        sh:property bbl:C4_S4_2_P4_2_8_A4_50_SUB3_PROP1 . \n",
            "\n",
            "bbl:C4_S4_2_P4_2_8_A4_50_SUB3_PROP1\n",
            "    a sh:PropertyShape ;\n",
            "    rdfs:label \"Article 4.50(3)\" ;\n",
            "    rdfs:comment \"\"\"A road tunnel tube with a length of more than 250 m is in a fire compartment.\"\"\"@en ;\n",
            "    rdfs:comment \"\"\"Een wegtunnelbuis met een lengte van meer dan 250 m ligt in een brandcompartiment.\"\"\"@nl ;\n",
            "    rdfs:seeAlso <https://wetten.overheid.nl/BWBR0041297/2024-08-01#Hoofdstuk4_Afdeling4.2_Paragraaf4.2.8_Artikel4.50_Lid3> ;\n",
            "    sh:path ex:locatedInCompartment ;\n",
            "    sh:class ex:FireCompartment ;\n",
            "    sh:minCount 1 .\n",
            "\n",
            "\n",
            "bbl:C4_S4_2_P4_2_14_A4_92_SUB2\n",
            "    a sh:NodeShape ;\n",
            "    rdfs:label \"Article 4.92(2)\" ;\n",
            "    rdfs:comment \"\"\"Contrary to the first sub-article, a door, a window, a frame or a structural component to be equated with that is a fire class D, determined according to NEN-EN 13501-1.\"\"\"@en ;\n",
            "    rdfs:comment \"\"\"In afwijking van het eerste lid voldoet een deur, een raam, een kozijn of een daaraan gelijk te stellen constructieonderdeel aan brandklasse D, bepaald volgens NEN-EN 13501-1.\"\"\"@nl ;\n",
            "    rdfs:seeAlso <https://wetten.overheid.nl/BWBR0041297/2024-08-01#Hoofdstuk4_Afdeling4.2_Paragraaf4.2.14_Artikel4.92_Lid2> ;\n",
            "        sh:target [\n",
            "            a sh:SPARQLTarget ;\n",
            "                sh:select \"\"\"\n",
            "                    SELECT DISTINCT ?this WHERE {\n",
            "                    {\n",
            "                        {  ?this a beo:Door . }\n",
            "                        UNION\n",
            "                        {  ?this a beo:Window . }\n",
            "                        UNION\n",
            "                        {  ?this a ex:Frame . }\n",
            "                        UNION\n",
            "                        {  ?this a ex:StructuralComponent . } \n",
            "                    }\n",
            "                }    \n",
            "                \"\"\" ;\n",
            "        ]     ;\n",
            "        sh:property bbl:C4_S4_2_P4_2_14_A4_92_SUB2_PROP1 . \n",
            "\n",
            "bbl:C4_S4_2_P4_2_14_A4_92_SUB2_PROP1\n",
            "    a sh:PropertyShape ;\n",
            "    rdfs:label \"Article 4.92(2)\" ;\n",
            "    rdfs:comment \"\"\"Contrary to the first sub-article, a door, a window, a frame or a structural component to be equated with that is a fire class D, determined according to NEN-EN 13501-1.\"\"\"@en ;\n",
            "    rdfs:comment \"\"\"In afwijking van het eerste lid voldoet een deur, een raam, een kozijn of een daaraan gelijk te stellen constructieonderdeel aan brandklasse D, bepaald volgens NEN-EN 13501-1.\"\"\"@nl ;\n",
            "    rdfs:seeAlso <https://wetten.overheid.nl/BWBR0041297/2024-08-01#Hoofdstuk4_Afdeling4.2_Paragraaf4.2.14_Artikel4.92_Lid2> ;\n",
            "    sh:path ( pset:Other props:Fireclass ) ;\n",
            "    sh:in ( \"D\"^^xsd:string \"C\"^^xsd:string \"B\"^^xsd:string \"A2\"^^xsd:string \"A1\"^^xsd:string ) ;\n",
            "    sh:minCount 1 .\n",
            "\n",
            "\n"
          ]
        }
      ]
    },
    {
      "cell_type": "markdown",
      "source": [
        "## Parse ontology graph"
      ],
      "metadata": {
        "id": "fHP7bsmyrjKm"
      }
    },
    {
      "cell_type": "code",
      "source": [
        "# Parse ontology graph (without external ontology imports or alignments)\n",
        "ont_graph_custom = Graph()\n",
        "ont_graph_custom.parse(ont_path_custom, format=\"turtle\")\n",
        "print(ont_graph_custom.serialize(format=\"turtle\"))"
      ],
      "metadata": {
        "colab": {
          "base_uri": "https://localhost:8080/"
        },
        "id": "a2d9iBsmvJK8",
        "outputId": "32cce6bb-48c2-4893-8656-ced4e05e8f59"
      },
      "execution_count": 29,
      "outputs": [
        {
          "output_type": "stream",
          "name": "stdout",
          "text": [
            "@prefix bot: <https://w3id.org/bot#> .\n",
            "@prefix ex: <https://example.org/ns#> .\n",
            "@prefix owl: <http://www.w3.org/2002/07/owl#> .\n",
            "@prefix rdfs: <http://www.w3.org/2000/01/rdf-schema#> .\n",
            "\n",
            "ex:ProtectedSubFireCompartment a owl:Class ;\n",
            "    rdfs:subClassOf ex:SubFireCompartment .\n",
            "\n",
            "ex:adjacentCompartment a owl:ObjectProperty,\n",
            "        owl:SymmetricProperty ;\n",
            "    rdfs:comment \"Only fire compartments of the same type can be considered adjacent\" ;\n",
            "    rdfs:domain ex:FireCompartment ;\n",
            "    rdfs:range ex:FireCompartment ;\n",
            "    owl:propertyDisjointWith ex:locatedInCompartment,\n",
            "        ex:partOfCompartment .\n",
            "\n",
            "ex:hasMaterial a owl:ObjectProperty ;\n",
            "    rdfs:domain bot:Element ;\n",
            "    rdfs:range ex:Material .\n",
            "\n",
            "ex:locatedInCompartment a owl:ObjectProperty,\n",
            "        owl:TransitiveProperty ;\n",
            "    rdfs:comment \"Subject cannot be subclass of object\" ;\n",
            "    rdfs:domain bot:Zone ;\n",
            "    rdfs:range ex:FireCompartment ;\n",
            "    owl:propertyDisjointWith ex:partOfCompartment .\n",
            "\n",
            "ex:Material a owl:Class ;\n",
            "    owl:disjointWith bot:Element,\n",
            "        bot:Interface,\n",
            "        bot:Zone .\n",
            "\n",
            "ex:SubFireCompartment a owl:Class ;\n",
            "    rdfs:subClassOf ex:FireCompartment .\n",
            "\n",
            "ex:partOfCompartment a owl:ObjectProperty,\n",
            "        owl:TransitiveProperty ;\n",
            "    rdfs:domain ex:FireCompartment ;\n",
            "    rdfs:range ex:SubFireCompartment .\n",
            "\n",
            "bot:Interface a owl:Class .\n",
            "\n",
            "bot:Zone a owl:Class .\n",
            "\n",
            "bot:Element a owl:Class .\n",
            "\n",
            "ex:FireCompartment a owl:Class ;\n",
            "    owl:disjointWith ex:Material,\n",
            "        bot:Element,\n",
            "        bot:Interface .\n",
            "\n",
            "\n"
          ]
        }
      ]
    },
    {
      "cell_type": "code",
      "source": [
        "# Parse alignment ontology\n",
        "ont_graph_alignment = Graph()\n",
        "ont_graph_alignment.parse(ont_path_alignment, format=\"turtle\")\n",
        "print(ont_graph_alignment.serialize(format=\"turtle\"))"
      ],
      "metadata": {
        "colab": {
          "base_uri": "https://localhost:8080/"
        },
        "id": "gordTVghD_0R",
        "outputId": "41c03b40-ac12-49f7-b9e4-250bd4cad403"
      },
      "execution_count": 30,
      "outputs": [
        {
          "output_type": "stream",
          "name": "stdout",
          "text": [
            "@prefix beo: <https://w3id.org/beo#> .\n",
            "@prefix bot: <https://w3id.org/bot#> .\n",
            "@prefix ex: <https://example.org/ns#> .\n",
            "@prefix ifc: <https://w3id.org/ifc/IFC4X3_ADD2#> .\n",
            "@prefix owl: <http://www.w3.org/2002/07/owl#> .\n",
            "@prefix rdfs: <http://www.w3.org/2000/01/rdf-schema#> .\n",
            "\n",
            "ex: a owl:Ontology ;\n",
            "    owl:imports <https://cramonell.github.io/beo/actual/ontology.ttl>,\n",
            "        <https://cramonell.github.io/ifc/ifcowl/IFC4X3_ADD2/actual/ontology.ttl>,\n",
            "        <https://w3c-lbd-cg.github.io/bot/bot.ttl> .\n",
            "\n",
            "ifc:IfcBuilding rdfs:subClassOf bot:Building .\n",
            "\n",
            "ifc:IfcBuildingElement rdfs:subClassOf beo:BuiltElement .\n",
            "\n",
            "ifc:IfcBuildingStorey rdfs:subClassOf bot:Storey .\n",
            "\n",
            "ifc:IfcCurtainWall rdfs:subClassOf beo:CurtainWall .\n",
            "\n",
            "ifc:IfcDoor rdfs:subClassOf beo:Door .\n",
            "\n",
            "ifc:IfcElement rdfs:subClassOf bot:Element .\n",
            "\n",
            "ifc:IfcMaterial rdfs:subClassOf ex:Material .\n",
            "\n",
            "ifc:IfcPlate rdfs:subClassOf beo:Plate .\n",
            "\n",
            "ifc:IfcRoof rdfs:subClassOf beo:Roof .\n",
            "\n",
            "ifc:IfcSite rdfs:subClassOf bot:Site .\n",
            "\n",
            "ifc:IfcSlab rdfs:subClassOf beo:Slab .\n",
            "\n",
            "ifc:IfcSpace rdfs:subClassOf bot:Space .\n",
            "\n",
            "ifc:IfcWall rdfs:subClassOf beo:Wall .\n",
            "\n",
            "ifc:IfcWindow rdfs:subClassOf beo:Window .\n",
            "\n",
            "\n"
          ]
        }
      ]
    },
    {
      "cell_type": "markdown",
      "source": [
        "---\n",
        "# **Prepare compliance report generation**"
      ],
      "metadata": {
        "id": "BErdeJCamUM1"
      }
    },
    {
      "cell_type": "code",
      "execution_count": 31,
      "metadata": {
        "id": "wvJYS24fltcA"
      },
      "outputs": [],
      "source": [
        "def read_SHACL_report(data_graph, shapes, ontology=None, inference='rdfs'):\n",
        "    # Prepare default namespaces + custom namespaces only used for the shapes graph\n",
        "    l_default_namespaces = [\n",
        "        f\"@prefix rdf: <{RDF}> .\",\n",
        "        f\"@prefix rdfs: <{RDFS}> .\",\n",
        "        f\"@prefix xsd: <{XSD}> .\",\n",
        "        f\"@prefix sh: <{SH}> .\",\n",
        "        f\"@prefix owl: <{OWL}> .\",\n",
        "        \"@prefix bbl: <https://example.org/BBL#> .\",\n",
        "    ]\n",
        "\n",
        "    # add default namespaces to mapping dictionary\n",
        "    default_namespace_map = {}\n",
        "    for i in l_default_namespaces:\n",
        "        default_namespace_map[i.split(\":\")[0].split(\"@prefix\")[1].lstrip(\" \")] = i.split(\"<\")[1].split(\">\")[0]\n",
        "\n",
        "    # find namespaces in data graph\n",
        "    l_namespaces = []\n",
        "    for i in data_graph.serialize(format=\"turtle\").format(\"UTF-8\").split('\\n'):\n",
        "        # check if current line contains a prefix\n",
        "        if \"@prefix\" in i:\n",
        "            l_namespaces.append(i)\n",
        "\n",
        "    # add data graph namespaces to mapping dictionary\n",
        "    namespace_map = {}\n",
        "    for i in l_namespaces:\n",
        "        namespace_map[i.split(\":\")[0].split(\"@prefix\")[1].lstrip(\" \")] = i.split(\"<\")[1].split(\">\")[0]\n",
        "\n",
        "    # check if namespaces from the data graph clash with the default namespaces (which should not happen)\n",
        "    common_namespaces = set(default_namespace_map.keys()) & set(namespace_map.keys())  # Find overlapping prefixes\n",
        "    mismatched_namespaces = [URL for URL in common_namespaces if default_namespace_map[URL] != namespace_map[URL]]  # Find mismatches\n",
        "\n",
        "    if mismatched_namespaces:  #stops at error\n",
        "        print(\"NAMESPACE CLASHES FOUND\")\n",
        "        for ns in mismatched_namespaces:\n",
        "            print(f\"@prefix {ns}: change {default_namespace_map[ns]} in data graph to {namespace_map[ns]}\")\n",
        "        return False\n",
        "    else: # if no clashes are found, add merge the namespace dictionaries and continue\n",
        "        l_namespaces = l_default_namespaces + l_namespaces\n",
        "        namespace_map = {**default_namespace_map, **namespace_map}\n",
        "\n",
        "    shapes_graph = '\\n'.join(l_namespaces)+'\\n\\n'\n",
        "    if type(shapes) == list: #for multiple shape inputs\n",
        "        shapes_graph += '\\n'.join(shapes)\n",
        "    else: # for a single shape inpout\n",
        "        shapes_graph += shapes\n",
        "\n",
        "    # print(shapes_graph)\n",
        "    # validate data graph with SHACL shapes\n",
        "\n",
        "    if ontology: # if an ontology is given for inference\n",
        "        conforms, report_graph, report_text = pyshacl.validate(\n",
        "            data_graph,\n",
        "            shacl_graph=shapes_graph,\n",
        "            data_graph_format=\"ttl\",\n",
        "            shacl_graph_format=\"ttl\",\n",
        "            ont_graph=ontology,\n",
        "            ont_graph_format=\"ttl\",\n",
        "            do_owl_imports=True, # allow for owl:imports in shapes graph or ontology graph\n",
        "            inference=\"owlrl\", # One of \"rdfs\", \"owlrl\", \"both\", \"none\", or None\n",
        "            abort_on_first=False,\n",
        "            allow_infos=False,\n",
        "            allow_warnings=False,\n",
        "            meta_shacl=False,\n",
        "            advanced=True, # SPARQL target is advanced\n",
        "            js=False,\n",
        "            debug=False,\n",
        "            serialize_report_graph=\"ttl\"\n",
        "            )\n",
        "    else: # if no ontology is given for inference\n",
        "        conforms, report_graph, report_text = pyshacl.validate(\n",
        "            data_graph,\n",
        "            shacl_graph=shapes_graph,\n",
        "            data_graph_format=\"ttl\",\n",
        "            shacl_graph_format=\"ttl\",\n",
        "            inference=\"none\",\n",
        "            abort_on_first=False,\n",
        "            allow_infos=False,\n",
        "            allow_warnings=False,\n",
        "            meta_shacl=False,\n",
        "            advanced=True, # SPARQL target is advanced\n",
        "            js=False,\n",
        "            debug=False,\n",
        "            serialize_report_graph=\"ttl\"\n",
        "            )\n",
        "\n",
        "\n",
        "    # Parse report graph\n",
        "    g = Graph()\n",
        "    g.parse(report_graph, format='turtle')\n",
        "\n",
        "    # Directly save SHACL report (optional)\n",
        "    # g.serialize(destination=path+\"output/compliance_report.ttl\")\n",
        "\n",
        "    # Make sure shapes_graph is still an RDF Graph\n",
        "    if isinstance(shapes_graph, str):\n",
        "        shapes_graph = Graph().parse(data=shapes_graph, format=\"turtle\")\n",
        "\n",
        "    # Enrich SHACL report with rdfs:label, rdfs:comment, rdfs:seeAlso\n",
        "    for result in g.subjects(RDF.type, SH.ValidationResult):\n",
        "        source_shape = g.value(result, SH.sourceShape)\n",
        "        if source_shape:\n",
        "            # Fetch metadata from the SHACL shapes graph\n",
        "            for label in shapes_graph.objects(source_shape, RDFS.label):\n",
        "                g.add((result, RDFS.label, label))\n",
        "            for comment in shapes_graph.objects(source_shape, RDFS.comment):\n",
        "                g.add((result, RDFS.comment, comment))\n",
        "            for seeAlso in shapes_graph.objects(source_shape, RDFS.seeAlso):\n",
        "                g.add((result, RDFS.seeAlso, seeAlso))\n",
        "\n",
        "    # Directly save the enriched SHACL report (optional)\n",
        "    # g.serialize(destination=path+\"output/enriched_compliance_report.ttl\")\n",
        "\n",
        "    # Functions to convert the SHACL report into a dictionary\n",
        "    def replace_with_prefix(uri, namespace_map):\n",
        "        for prefix, full_uri in namespace_map.items():\n",
        "            if uri.startswith(full_uri):\n",
        "                return uri.replace(full_uri, f\"{prefix}:\")\n",
        "        return uri  # Return the URI as is if no prefix matches\n",
        "\n",
        "    def convert_result(r, g, namespace_map):\n",
        "        if not g.value(r, SH.focusNode):\n",
        "            return None\n",
        "        #print(g.value(r, SH.focusNode))\n",
        "        converted_results = g.value(r, SH.focusNode)\n",
        "        converted_results = {\n",
        "            \"focusNode\": str(g.value(r, SH.focusNode)),\n",
        "            \"value\": str(g.value(r, SH.value)),\n",
        "            \"resultMessage\": str(g.value(r, SH.resultMessage)),\n",
        "            \"resultSeverity\": str(g.value(r, SH.resultSeverity)),\n",
        "            \"sourceConstraintComponent\": str(g.value(r, SH.sourceConstraintComponent)),\n",
        "            \"sourceShape\": str(g.value(r, SH.sourceShape)),\n",
        "            #\"group\": str(g.value(r, SH.group)),\n",
        "            # \"label\": str(g.value(r, RDFS.label)),\n",
        "            # \"comment\": str(g.value(r, RDFS.comment)),\n",
        "            # \"seeAlso\": str(g.value(r, RDFS.seeAlso)),\n",
        "            # \"name\": str(g.value(r, SH.name)),\n",
        "            # \"path\": str(g.value(r, SH.path)),\n",
        "        }\n",
        "\n",
        "        # Add RDFS info, if present\n",
        "        if g.value(r, RDFS.label):\n",
        "            converted_results[\"label\"] = str(g.value(r, RDFS.label))\n",
        "        if g.value(r, RDFS.comment):\n",
        "            converted_results[\"comment\"] = str(g.value(r, RDFS.comment))\n",
        "        if g.value(r, RDFS.seeAlso):\n",
        "            converted_results[\"seeAlso\"] = str(g.value(r, RDFS.seeAlso))\n",
        "\n",
        "        # replace URIs with namespaces, if present\n",
        "        for i in converted_results:\n",
        "            if converted_results[i] is not None:\n",
        "                converted_results[i] = replace_with_prefix(converted_results[i], namespace_map)\n",
        "        return converted_results\n",
        "\n",
        "\n",
        "\n",
        "    # Iterate through the validation results in the graph\n",
        "    validation_results = []\n",
        "    result_dict = {}\n",
        "    l_results = [] # to avoid duplicates\n",
        "    for result in g.subjects(RDF.type, SH.ValidationResult):\n",
        "        # filter out constraints from blank nodes (which would otherwise appear twice)\n",
        "        if g.value(result, SH.sourceConstraintComponent) not in [\"sh:OrConstraintComponent\", \"sh:AndConstraintComponent\", \"sh:NotConstraintComponent\", \"sh:XoneConstraintComponent\"]:\n",
        "            details = g.value(result, SH.detail)\n",
        "            if details and details not in l_results:\n",
        "                l_results.append(result)\n",
        "                l_results.append(details)\n",
        "                result_dict = convert_result(result, g, namespace_map)\n",
        "                result_dict[\"details\"] = convert_result(details, g, namespace_map)\n",
        "                validation_results.append(result_dict)\n",
        "\n",
        "            elif result not in l_results: # avoids duplicates\n",
        "                l_results.append(result)\n",
        "                result_dict = convert_result(result, g, namespace_map)\n",
        "                validation_results.append(result_dict)\n",
        "            result_dict = {}\n",
        "\n",
        "    # function for splitting printed results after a certain amount of characters\n",
        "    def wrap_result(text, n=130):\n",
        "        words = text.split()\n",
        "        result = []\n",
        "        current_line = \"\"\n",
        "\n",
        "        for word in words:\n",
        "            if len(current_line) + len(word) + 1 <= n:\n",
        "                current_line += (\" \" + word) if current_line else word\n",
        "            else:\n",
        "                result.append(current_line)\n",
        "                current_line = word\n",
        "\n",
        "        if current_line:\n",
        "            result.append(current_line)\n",
        "\n",
        "        return '\\n'.join(result)\n",
        "\n",
        "    # If no issues are found, return empty\n",
        "    if len(validation_results) == 0:\n",
        "        print(\"Model complies with regulations\")\n",
        "        return None, None\n",
        "    # Return as textual report\n",
        "    for result in validation_results:\n",
        "            # get article name or source shape name\n",
        "            try:\n",
        "                label = result['label'] + \" - \"\n",
        "            except:\n",
        "                label = \"\"\n",
        "\n",
        "            # try to find reference\n",
        "            try:\n",
        "                details = result['details']\n",
        "                print(f'{result[\"resultSeverity\"][3:].title()} for {result[\"focusNode\"]}')# Violation details:\")\n",
        "                # If rdfs:comment is included, print this before the message\n",
        "                try:\n",
        "                    print(f'{label}\"{wrap_result(result[\"comment\"])}\"')\n",
        "                    print(f'{result[\"resultSeverity\"][3:].title()} : {wrap_result(result[\"resultMessage\"])}')\n",
        "                except:\n",
        "                    print(f'{label}{wrap_result(result[\"resultMessage\"])}')\n",
        "\n",
        "                # Print result message, with directly referenced values if present\n",
        "                if details['value'] and wrap_result(details['resultMessage']).lower().startswith('value'):\n",
        "                    print(f\"{details['value']} {str(wrap_result(details['resultMessage']))[6:]}\")\n",
        "                else:\n",
        "                    print(wrap_result(details['resultMessage']))\n",
        "\n",
        "\n",
        "            except:\n",
        "                print(f'{result[\"resultSeverity\"][3:].title()} for {result[\"focusNode\"]}')# Violation details:\")\n",
        "                # Get result message, with directly referenced values if present\n",
        "                if result['value'] and wrap_result(result['resultMessage']).lower().startswith('value'):\n",
        "                    resultmessage = f\"{result['value']} {str(wrap_result(result['resultMessage']))[6:]}\"\n",
        "                else:\n",
        "                    resultmessage = wrap_result(result['resultMessage'])\n",
        "\n",
        "                # If rdfs:comment is included, print this before the message\n",
        "                try:\n",
        "                    print(f'{label}\"{wrap_result(result[\"comment\"])}\"')\n",
        "                    print(f'{result[\"resultSeverity\"][3:].title()} : {resultmessage}')\n",
        "                except:\n",
        "                    print(f'{label}{resultmessage}')\n",
        "\n",
        "            # Write reference, if defined\n",
        "            try:\n",
        "                print(f\"(see also: {result['seeAlso']})\")\n",
        "                print()\n",
        "            except:\n",
        "                print()\n",
        "\n",
        "\n",
        "    return g, validation_results #return both the TTL (standard) and dictionary (simplified and ready for further processing) version of the report\n"
      ]
    },
    {
      "cell_type": "markdown",
      "source": [
        "---\n",
        "# **Subset validation**\n",
        "\n",
        "Test SHACL shapes converted from the regulations on the correct and incorrect use case models"
      ],
      "metadata": {
        "id": "cZRN24uBqTbF"
      }
    },
    {
      "cell_type": "code",
      "source": [
        "report_graph, report_dict = read_SHACL_report(data_graph_correct_materialized, shapes_graph)"
      ],
      "metadata": {
        "id": "nDP9XlGlst6v",
        "colab": {
          "base_uri": "https://localhost:8080/"
        },
        "outputId": "d0bb9acf-63d4-458a-f352-d00f8c43e1c3"
      },
      "execution_count": 32,
      "outputs": [
        {
          "output_type": "stream",
          "name": "stdout",
          "text": [
            "Model complies with regulations\n"
          ]
        }
      ]
    },
    {
      "cell_type": "code",
      "source": [
        "report_graph, report_dict = read_SHACL_report(data_graph_incorrect_materialized, shapes_graph)"
      ],
      "metadata": {
        "id": "ynsuHrKJsrqM",
        "colab": {
          "base_uri": "https://localhost:8080/"
        },
        "outputId": "13adfa03-5bd3-4c9a-ae6e-a6e9b1bdc6b7"
      },
      "execution_count": 33,
      "outputs": [
        {
          "output_type": "stream",
          "name": "stdout",
          "text": [
            "Violation for inst:Space_902\n",
            "Article 4.50(1) - \"A closed space is in a fire compartment.\"\n",
            "Violation : Less than 1 values on inst:Space_902->ex:locatedInCompartment\n",
            "(see also: https://wetten.overheid.nl/BWBR0041297/2024-08-01#Hoofdstuk4_Afdeling4.2_Paragraaf4.2.8_Artikel4.50_Lid1)\n",
            "\n",
            "Violation for inst:Space_781\n",
            "Article 4.50(1) - \"A closed space is in a fire compartment.\"\n",
            "Violation : Less than 1 values on inst:Space_781->ex:locatedInCompartment\n",
            "(see also: https://wetten.overheid.nl/BWBR0041297/2024-08-01#Hoofdstuk4_Afdeling4.2_Paragraaf4.2.8_Artikel4.50_Lid1)\n",
            "\n",
            "Violation for inst:Door_18263\n",
            "Article 4.92(2) - \"Contrary to the first sub-article, a door, a window, a frame or a structural component to be equated with that is a fire class D,\n",
            "determined according to NEN-EN 13501-1.\"\n",
            "Violation : E Literal(\"E\", datatype=xsd:string) not in list ['Literal(\"A1\", datatype=xsd:string)', 'Literal(\"A2\", datatype=xsd:string)',\n",
            "'Literal(\"D\", datatype=xsd:string)', 'Literal(\"B\", datatype=xsd:string)', 'Literal(\"C\", datatype=xsd:string)']\n",
            "(see also: https://wetten.overheid.nl/BWBR0041297/2024-08-01#Hoofdstuk4_Afdeling4.2_Paragraaf4.2.14_Artikel4.92_Lid2)\n",
            "\n",
            "Violation for inst:Door_9144\n",
            "Article 4.92(2) - \"Contrary to the first sub-article, a door, a window, a frame or a structural component to be equated with that is a fire class D,\n",
            "determined according to NEN-EN 13501-1.\"\n",
            "Violation : E Literal(\"E\", datatype=xsd:string) not in list ['Literal(\"A1\", datatype=xsd:string)', 'Literal(\"A2\", datatype=xsd:string)',\n",
            "'Literal(\"D\", datatype=xsd:string)', 'Literal(\"B\", datatype=xsd:string)', 'Literal(\"C\", datatype=xsd:string)']\n",
            "(see also: https://wetten.overheid.nl/BWBR0041297/2024-08-01#Hoofdstuk4_Afdeling4.2_Paragraaf4.2.14_Artikel4.92_Lid2)\n",
            "\n",
            "Violation for inst:Door_25604\n",
            "Article 4.92(2) - \"Contrary to the first sub-article, a door, a window, a frame or a structural component to be equated with that is a fire class D,\n",
            "determined according to NEN-EN 13501-1.\"\n",
            "Violation : E Literal(\"E\", datatype=xsd:string) not in list ['Literal(\"A1\", datatype=xsd:string)', 'Literal(\"A2\", datatype=xsd:string)',\n",
            "'Literal(\"D\", datatype=xsd:string)', 'Literal(\"B\", datatype=xsd:string)', 'Literal(\"C\", datatype=xsd:string)']\n",
            "(see also: https://wetten.overheid.nl/BWBR0041297/2024-08-01#Hoofdstuk4_Afdeling4.2_Paragraaf4.2.14_Artikel4.92_Lid2)\n",
            "\n",
            "Violation for inst:Door_39702\n",
            "Article 4.92(2) - \"Contrary to the first sub-article, a door, a window, a frame or a structural component to be equated with that is a fire class D,\n",
            "determined according to NEN-EN 13501-1.\"\n",
            "Violation : E Literal(\"E\", datatype=xsd:string) not in list ['Literal(\"A1\", datatype=xsd:string)', 'Literal(\"A2\", datatype=xsd:string)',\n",
            "'Literal(\"D\", datatype=xsd:string)', 'Literal(\"B\", datatype=xsd:string)', 'Literal(\"C\", datatype=xsd:string)']\n",
            "(see also: https://wetten.overheid.nl/BWBR0041297/2024-08-01#Hoofdstuk4_Afdeling4.2_Paragraaf4.2.14_Artikel4.92_Lid2)\n",
            "\n"
          ]
        }
      ]
    },
    {
      "cell_type": "markdown",
      "source": [
        "---\n",
        "# **Method validation**"
      ],
      "metadata": {
        "id": "T5e1dyBPxUF7"
      }
    },
    {
      "cell_type": "markdown",
      "source": [
        "## Test inference\n",
        "\n"
      ],
      "metadata": {
        "id": "i9pxYHFTlthR"
      }
    },
    {
      "cell_type": "markdown",
      "source": [
        "The following shapes will return the correct instances if one or more of the following is true:\n",
        "\n",
        "* Classes are assigned explicitly in the data graph\n",
        "* Classes are inferred via full materialization of the data graph before validation\n",
        "* Classes are inferred by pySHACL using real-time inference based on imported ontologies"
      ],
      "metadata": {
        "id": "V16eh-uZKNqa"
      }
    },
    {
      "cell_type": "markdown",
      "source": [
        "## Test 1"
      ],
      "metadata": {
        "id": "0XWtB_vb3j7E"
      }
    },
    {
      "cell_type": "markdown",
      "source": [
        "The shape below will return all compartments if inference is implemented, since all compartments have the transitive class ex:FireCompartment"
      ],
      "metadata": {
        "id": "ycIvhQO6W9eo"
      }
    },
    {
      "cell_type": "code",
      "source": [
        "shape_inferencetest1 = '''\n",
        "ex:inferencetest1\n",
        "    a sh:NodeShape ;\n",
        "    sh:target [\n",
        "        a sh:SPARQLTarget ;\n",
        "        sh:select \"\"\"\n",
        "            SELECT DISTINCT ?this WHERE {\n",
        "                { ?this a ex:FireCompartment . }\n",
        "            }\n",
        "        \"\"\" ;\n",
        "    ] ;\n",
        "    sh:property [\n",
        "        sh:path rdfs:label ;\n",
        "        sh:minCount 2 ;\n",
        "    ] .\n",
        "'''"
      ],
      "metadata": {
        "id": "OZOHHjv5FYHX"
      },
      "execution_count": 34,
      "outputs": []
    },
    {
      "cell_type": "markdown",
      "source": [
        "**No inference**\n",
        "\n",
        "Without using ontologies for inference, only instances with explicitly the requested class are returned:"
      ],
      "metadata": {
        "id": "6EjDeePYuXj4"
      }
    },
    {
      "cell_type": "code",
      "source": [
        "start_time = time.time()\n",
        "report_graph, report_dict = read_SHACL_report(data_graph_correct, shape_inferencetest1)\n",
        "print(\"--- %s seconds ---\" % (time.time() - start_time))"
      ],
      "metadata": {
        "colab": {
          "base_uri": "https://localhost:8080/"
        },
        "id": "LXXf-MSfuaFr",
        "outputId": "cac49d9f-256c-47da-beb4-e577ab7e1000"
      },
      "execution_count": 35,
      "outputs": [
        {
          "output_type": "stream",
          "name": "stdout",
          "text": [
            "Violation for inst:Compartment_1012\n",
            "Less than 2 values on inst:Compartment_1012->rdfs:label\n",
            "\n",
            "--- 0.6331887245178223 seconds ---\n"
          ]
        }
      ]
    },
    {
      "cell_type": "markdown",
      "source": [
        "**Materialization**\n",
        "\n",
        "This method uses a materialized data graph to find inferred data"
      ],
      "metadata": {
        "id": "1OvPVwCNFzOG"
      }
    },
    {
      "cell_type": "code",
      "source": [
        "start_time = time.time()\n",
        "report_graph, report_dict = read_SHACL_report(data_graph_correct_materialized, shape_inferencetest1)\n",
        "print(\"--- %s seconds ---\" % (time.time() - start_time))"
      ],
      "metadata": {
        "colab": {
          "base_uri": "https://localhost:8080/"
        },
        "id": "urYUsw6TvxHI",
        "outputId": "399c607d-66cb-4393-9505-30eae1355af2"
      },
      "execution_count": 36,
      "outputs": [
        {
          "output_type": "stream",
          "name": "stdout",
          "text": [
            "Violation for inst:Compartment_1121\n",
            "Less than 2 values on inst:Compartment_1121->rdfs:label\n",
            "\n",
            "Violation for inst:Compartment_1067\n",
            "Less than 2 values on inst:Compartment_1067->rdfs:label\n",
            "\n",
            "Violation for inst:Compartment_1040\n",
            "Less than 2 values on inst:Compartment_1040->rdfs:label\n",
            "\n",
            "Violation for inst:Compartment_1093\n",
            "Less than 2 values on inst:Compartment_1093->rdfs:label\n",
            "\n",
            "Violation for inst:Compartment_1012\n",
            "Less than 2 values on inst:Compartment_1012->rdfs:label\n",
            "\n",
            "--- 0.6751372814178467 seconds ---\n"
          ]
        }
      ]
    },
    {
      "cell_type": "markdown",
      "source": [
        "**Real-time inference**\n",
        "\n",
        "This requires no materialization of data graphs, which makes the input more flexible but can be a lot slower for individual queries"
      ],
      "metadata": {
        "id": "Z90KWaHwFZND"
      }
    },
    {
      "cell_type": "code",
      "source": [
        "# rdfs inference\n",
        "start_time = time.time()\n",
        "report_graph, report_dict = read_SHACL_report(data_graph_correct, shape_inferencetest1,  ont_graph_custom+ont_graph_alignment)\n",
        "print(\"--- %s seconds ---\" % (time.time() - start_time))"
      ],
      "metadata": {
        "colab": {
          "base_uri": "https://localhost:8080/"
        },
        "outputId": "d384f9b8-2607-4b84-f4ef-a5f88492251e",
        "id": "RCucwD0Jqax9"
      },
      "execution_count": 37,
      "outputs": [
        {
          "output_type": "stream",
          "name": "stdout",
          "text": [
            "Violation for inst:Compartment_1012\n",
            "Less than 2 values on inst:Compartment_1012->rdfs:label\n",
            "\n",
            "Violation for inst:Compartment_1067\n",
            "Less than 2 values on inst:Compartment_1067->rdfs:label\n",
            "\n",
            "Violation for inst:Compartment_1121\n",
            "Less than 2 values on inst:Compartment_1121->rdfs:label\n",
            "\n",
            "Violation for inst:Compartment_1040\n",
            "Less than 2 values on inst:Compartment_1040->rdfs:label\n",
            "\n",
            "Violation for inst:Compartment_1093\n",
            "Less than 2 values on inst:Compartment_1093->rdfs:label\n",
            "\n",
            "--- 203.5200231075287 seconds ---\n"
          ]
        }
      ]
    },
    {
      "cell_type": "markdown",
      "source": [
        "**Real-time inference (without imports)**\n",
        "\n",
        "The method below skips the alignment module, which is faster but only works for this specific shape because the required inference is part of the custom ontology (instead of external ontologies)"
      ],
      "metadata": {
        "id": "TzI3igw0FnIg"
      }
    },
    {
      "cell_type": "code",
      "source": [
        "start_time = time.time()\n",
        "report_graph, report_dict = read_SHACL_report(data_graph_correct, shape_inferencetest1, ont_graph_custom)\n",
        "print(\"--- %s seconds ---\" % (time.time() - start_time))"
      ],
      "metadata": {
        "colab": {
          "base_uri": "https://localhost:8080/"
        },
        "id": "GMjeEVmNFTGx",
        "outputId": "4fcdd03f-780f-418e-965a-e05f3c2e3e2a"
      },
      "execution_count": 38,
      "outputs": [
        {
          "output_type": "stream",
          "name": "stdout",
          "text": [
            "Violation for inst:Compartment_1093\n",
            "Less than 2 values on inst:Compartment_1093->rdfs:label\n",
            "\n",
            "Violation for inst:Compartment_1012\n",
            "Less than 2 values on inst:Compartment_1012->rdfs:label\n",
            "\n",
            "Violation for inst:Compartment_1067\n",
            "Less than 2 values on inst:Compartment_1067->rdfs:label\n",
            "\n",
            "Violation for inst:Compartment_1040\n",
            "Less than 2 values on inst:Compartment_1040->rdfs:label\n",
            "\n",
            "Violation for inst:Compartment_1121\n",
            "Less than 2 values on inst:Compartment_1121->rdfs:label\n",
            "\n",
            "--- 6.739797592163086 seconds ---\n"
          ]
        }
      ]
    },
    {
      "cell_type": "markdown",
      "source": [
        "## Test 2"
      ],
      "metadata": {
        "id": "JJX0GRvu3pII"
      }
    },
    {
      "cell_type": "markdown",
      "source": [
        "The following shape should return instances with beo: and ifc: types."
      ],
      "metadata": {
        "id": "GthDjjrgFO3J"
      }
    },
    {
      "cell_type": "code",
      "source": [
        "shape_inferencetest2 = '''\n",
        "ex:inferencetest2\n",
        "    a sh:NodeShape ;\n",
        "    sh:target [\n",
        "        a sh:SPARQLTarget ;\n",
        "        sh:select \"\"\"\n",
        "            SELECT DISTINCT ?this WHERE {\n",
        "                { ?this a bot:Element . }\n",
        "            }\n",
        "        \"\"\" ;\n",
        "    ] ;\n",
        "    sh:property [\n",
        "        sh:path rdfs:label ;\n",
        "        sh:minCount 2 ;\n",
        "    ] .\n",
        "'''"
      ],
      "metadata": {
        "id": "5E8hFUPWFN64"
      },
      "execution_count": 39,
      "outputs": []
    },
    {
      "cell_type": "markdown",
      "source": [
        " **No inference**\n",
        " Since bot:Element classes are explicitly stated when the converter in module 2 is used, this shape does not require inference or materialization for correct results. If another converter is used, inference might be required to return elements correctly.\n",
        "\n"
      ],
      "metadata": {
        "id": "_TEHFBWdMj6B"
      }
    },
    {
      "cell_type": "code",
      "source": [
        "start_time = time.time()\n",
        "report_graph, report_dict = read_SHACL_report(data_graph_correct, shape_inferencetest2)\n",
        "print(\"--- %s seconds ---\" % (time.time() - start_time))"
      ],
      "metadata": {
        "colab": {
          "base_uri": "https://localhost:8080/"
        },
        "id": "Dae18fucLH-8",
        "outputId": "a2c80218-f41e-4875-8c80-058444c0046f"
      },
      "execution_count": 40,
      "outputs": [
        {
          "output_type": "stream",
          "name": "stdout",
          "text": [
            "Violation for inst:FlowTerminal_33554\n",
            "Less than 2 values on inst:FlowTerminal_33554->rdfs:label\n",
            "\n",
            "Violation for inst:Furniture_26912\n",
            "Less than 2 values on inst:Furniture_26912->rdfs:label\n",
            "\n",
            "Violation for inst:Furniture_29966\n",
            "Less than 2 values on inst:Furniture_29966->rdfs:label\n",
            "\n",
            "Violation for inst:Furniture_29891\n",
            "Less than 2 values on inst:Furniture_29891->rdfs:label\n",
            "\n",
            "Violation for inst:FlowTerminal_45124\n",
            "Less than 2 values on inst:FlowTerminal_45124->rdfs:label\n",
            "\n",
            "Violation for inst:Door_25587\n",
            "Less than 2 values on inst:Door_25587->rdfs:label\n",
            "\n",
            "Violation for inst:Plate_10743\n",
            "Less than 2 values on inst:Plate_10743->rdfs:label\n",
            "\n",
            "Violation for inst:Door_18246\n",
            "Less than 2 values on inst:Door_18246->rdfs:label\n",
            "\n",
            "Violation for inst:Window_10515\n",
            "Less than 2 values on inst:Window_10515->rdfs:label\n",
            "\n",
            "Violation for inst:Furniture_26390\n",
            "Less than 2 values on inst:Furniture_26390->rdfs:label\n",
            "\n",
            "Violation for inst:Wall_1402\n",
            "Less than 2 values on inst:Wall_1402->rdfs:label\n",
            "\n",
            "Violation for inst:FlowTerminal_33506\n",
            "Less than 2 values on inst:FlowTerminal_33506->rdfs:label\n",
            "\n",
            "Violation for inst:Furniture_45518\n",
            "Less than 2 values on inst:Furniture_45518->rdfs:label\n",
            "\n",
            "Violation for inst:OpeningElement_57101\n",
            "Less than 2 values on inst:OpeningElement_57101->rdfs:label\n",
            "\n",
            "Violation for inst:FlowTerminal_52911\n",
            "Less than 2 values on inst:FlowTerminal_52911->rdfs:label\n",
            "\n",
            "Violation for inst:Window_9593\n",
            "Less than 2 values on inst:Window_9593->rdfs:label\n",
            "\n",
            "Violation for inst:Plate_10673\n",
            "Less than 2 values on inst:Plate_10673->rdfs:label\n",
            "\n",
            "Violation for inst:Window_10101\n",
            "Less than 2 values on inst:Window_10101->rdfs:label\n",
            "\n",
            "Violation for inst:Wall_1786\n",
            "Less than 2 values on inst:Wall_1786->rdfs:label\n",
            "\n",
            "Violation for inst:Furniture_27025\n",
            "Less than 2 values on inst:Furniture_27025->rdfs:label\n",
            "\n",
            "Violation for inst:Furniture_27001\n",
            "Less than 2 values on inst:Furniture_27001->rdfs:label\n",
            "\n",
            "Violation for inst:CurtainWall_10627\n",
            "Less than 2 values on inst:CurtainWall_10627->rdfs:label\n",
            "\n",
            "Violation for inst:Wall_1514\n",
            "Less than 2 values on inst:Wall_1514->rdfs:label\n",
            "\n",
            "Violation for inst:FlowTerminal_45085\n",
            "Less than 2 values on inst:FlowTerminal_45085->rdfs:label\n",
            "\n",
            "Violation for inst:Window_10033\n",
            "Less than 2 values on inst:Window_10033->rdfs:label\n",
            "\n",
            "Violation for inst:OpeningElement_57066\n",
            "Less than 2 values on inst:OpeningElement_57066->rdfs:label\n",
            "\n",
            "Violation for inst:OpeningElement_57129\n",
            "Less than 2 values on inst:OpeningElement_57129->rdfs:label\n",
            "\n",
            "Violation for inst:Furniture_29866\n",
            "Less than 2 values on inst:Furniture_29866->rdfs:label\n",
            "\n",
            "Violation for inst:Furniture_26485\n",
            "Less than 2 values on inst:Furniture_26485->rdfs:label\n",
            "\n",
            "Violation for inst:Furniture_45628\n",
            "Less than 2 values on inst:Furniture_45628->rdfs:label\n",
            "\n",
            "Violation for inst:OpeningElement_57113\n",
            "Less than 2 values on inst:OpeningElement_57113->rdfs:label\n",
            "\n",
            "Violation for inst:Furniture_45580\n",
            "Less than 2 values on inst:Furniture_45580->rdfs:label\n",
            "\n",
            "Violation for inst:Furniture_29916\n",
            "Less than 2 values on inst:Furniture_29916->rdfs:label\n",
            "\n",
            "Violation for inst:Door_39685\n",
            "Less than 2 values on inst:Door_39685->rdfs:label\n",
            "\n",
            "Violation for inst:Furniture_26953\n",
            "Less than 2 values on inst:Furniture_26953->rdfs:label\n",
            "\n",
            "Violation for inst:Roof_10541\n",
            "Less than 2 values on inst:Roof_10541->rdfs:label\n",
            "\n",
            "Violation for inst:Plate_10697\n",
            "Less than 2 values on inst:Plate_10697->rdfs:label\n",
            "\n",
            "Violation for inst:Wall_1546\n",
            "Less than 2 values on inst:Wall_1546->rdfs:label\n",
            "\n",
            "Violation for inst:FlowTerminal_33464\n",
            "Less than 2 values on inst:FlowTerminal_33464->rdfs:label\n",
            "\n",
            "Violation for inst:OpeningElement_57190\n",
            "Less than 2 values on inst:OpeningElement_57190->rdfs:label\n",
            "\n",
            "Violation for inst:Furniture_27049\n",
            "Less than 2 values on inst:Furniture_27049->rdfs:label\n",
            "\n",
            "Violation for inst:Furniture_26977\n",
            "Less than 2 values on inst:Furniture_26977->rdfs:label\n",
            "\n",
            "Violation for inst:Furniture_29802\n",
            "Less than 2 values on inst:Furniture_29802->rdfs:label\n",
            "\n",
            "Violation for inst:OpeningElement_57160\n",
            "Less than 2 values on inst:OpeningElement_57160->rdfs:label\n",
            "\n",
            "Violation for inst:Window_18275\n",
            "Less than 2 values on inst:Window_18275->rdfs:label\n",
            "\n",
            "Violation for inst:Slab_1153\n",
            "Less than 2 values on inst:Slab_1153->rdfs:label\n",
            "\n",
            "Violation for inst:OpeningElement_57175\n",
            "Less than 2 values on inst:OpeningElement_57175->rdfs:label\n",
            "\n",
            "Violation for inst:Wall_10934\n",
            "Less than 2 values on inst:Wall_10934->rdfs:label\n",
            "\n",
            "Violation for inst:OpeningElement_57205\n",
            "Less than 2 values on inst:OpeningElement_57205->rdfs:label\n",
            "\n",
            "Violation for inst:OpeningElement_57144\n",
            "Less than 2 values on inst:OpeningElement_57144->rdfs:label\n",
            "\n",
            "Violation for inst:Window_10125\n",
            "Less than 2 values on inst:Window_10125->rdfs:label\n",
            "\n",
            "Violation for inst:Furniture_45556\n",
            "Less than 2 values on inst:Furniture_45556->rdfs:label\n",
            "\n",
            "Violation for inst:Wall_10902\n",
            "Less than 2 values on inst:Wall_10902->rdfs:label\n",
            "\n",
            "Violation for inst:Plate_10661\n",
            "Less than 2 values on inst:Plate_10661->rdfs:label\n",
            "\n",
            "Violation for inst:OpeningElement_57051\n",
            "Less than 2 values on inst:OpeningElement_57051->rdfs:label\n",
            "\n",
            "Violation for inst:OpeningElement_57081\n",
            "Less than 2 values on inst:OpeningElement_57081->rdfs:label\n",
            "\n",
            "Violation for inst:Wall_1578\n",
            "Less than 2 values on inst:Wall_1578->rdfs:label\n",
            "\n",
            "Violation for inst:Furniture_29842\n",
            "Less than 2 values on inst:Furniture_29842->rdfs:label\n",
            "\n",
            "Violation for inst:Slab_10558\n",
            "Less than 2 values on inst:Slab_10558->rdfs:label\n",
            "\n",
            "Violation for inst:FlowTerminal_33530\n",
            "Less than 2 values on inst:FlowTerminal_33530->rdfs:label\n",
            "\n",
            "Violation for inst:Plate_10709\n",
            "Less than 2 values on inst:Plate_10709->rdfs:label\n",
            "\n",
            "Violation for inst:Furniture_45652\n",
            "Less than 2 values on inst:Furniture_45652->rdfs:label\n",
            "\n",
            "Violation for inst:Furniture_45604\n",
            "Less than 2 values on inst:Furniture_45604->rdfs:label\n",
            "\n",
            "Violation for inst:Plate_10685\n",
            "Less than 2 values on inst:Plate_10685->rdfs:label\n",
            "\n",
            "Violation for inst:Furniture_29941\n",
            "Less than 2 values on inst:Furniture_29941->rdfs:label\n",
            "\n",
            "Violation for inst:Door_9127\n",
            "Less than 2 values on inst:Door_9127->rdfs:label\n",
            "\n",
            "Violation for inst:Wall_1727\n",
            "Less than 2 values on inst:Wall_1727->rdfs:label\n",
            "\n",
            "Violation for inst:Wall_1654\n",
            "Less than 2 values on inst:Wall_1654->rdfs:label\n",
            "\n",
            "--- 0.4442307949066162 seconds ---\n"
          ]
        }
      ]
    },
    {
      "cell_type": "markdown",
      "source": [
        "**Materialized**"
      ],
      "metadata": {
        "id": "BbnZDRLymFIC"
      }
    },
    {
      "cell_type": "code",
      "source": [
        "start_time = time.time()\n",
        "report_graph, report_dict = read_SHACL_report(data_graph_correct_materialized, shape_inferencetest2)\n",
        "print(\"--- %s seconds ---\" % (time.time() - start_time))"
      ],
      "metadata": {
        "colab": {
          "base_uri": "https://localhost:8080/"
        },
        "id": "ryxbG2dGmDG8",
        "outputId": "0651fe10-64ec-42f2-fae9-9a6713b12eba"
      },
      "execution_count": 41,
      "outputs": [
        {
          "output_type": "stream",
          "name": "stdout",
          "text": [
            "Violation for inst:Window_10033\n",
            "Less than 2 values on inst:Window_10033->rdfs:label\n",
            "\n",
            "Violation for inst:OpeningElement_57066\n",
            "Less than 2 values on inst:OpeningElement_57066->rdfs:label\n",
            "\n",
            "Violation for inst:Furniture_29966\n",
            "Less than 2 values on inst:Furniture_29966->rdfs:label\n",
            "\n",
            "Violation for inst:Furniture_29802\n",
            "Less than 2 values on inst:Furniture_29802->rdfs:label\n",
            "\n",
            "Violation for inst:OpeningElement_57129\n",
            "Less than 2 values on inst:OpeningElement_57129->rdfs:label\n",
            "\n",
            "Violation for inst:Slab_1153\n",
            "Less than 2 values on inst:Slab_1153->rdfs:label\n",
            "\n",
            "Violation for inst:Furniture_29891\n",
            "Less than 2 values on inst:Furniture_29891->rdfs:label\n",
            "\n",
            "Violation for inst:Furniture_27001\n",
            "Less than 2 values on inst:Furniture_27001->rdfs:label\n",
            "\n",
            "Violation for inst:Wall_1402\n",
            "Less than 2 values on inst:Wall_1402->rdfs:label\n",
            "\n",
            "Violation for inst:Wall_1786\n",
            "Less than 2 values on inst:Wall_1786->rdfs:label\n",
            "\n",
            "Violation for inst:OpeningElement_57160\n",
            "Less than 2 values on inst:OpeningElement_57160->rdfs:label\n",
            "\n",
            "Violation for inst:OpeningElement_57051\n",
            "Less than 2 values on inst:OpeningElement_57051->rdfs:label\n",
            "\n",
            "Violation for inst:Furniture_27049\n",
            "Less than 2 values on inst:Furniture_27049->rdfs:label\n",
            "\n",
            "Violation for inst:Window_18275\n",
            "Less than 2 values on inst:Window_18275->rdfs:label\n",
            "\n",
            "Violation for inst:FlowTerminal_33554\n",
            "Less than 2 values on inst:FlowTerminal_33554->rdfs:label\n",
            "\n",
            "Violation for inst:Wall_1727\n",
            "Less than 2 values on inst:Wall_1727->rdfs:label\n",
            "\n",
            "Violation for inst:Wall_10934\n",
            "Less than 2 values on inst:Wall_10934->rdfs:label\n",
            "\n",
            "Violation for inst:Furniture_45518\n",
            "Less than 2 values on inst:Furniture_45518->rdfs:label\n",
            "\n",
            "Violation for inst:Plate_10673\n",
            "Less than 2 values on inst:Plate_10673->rdfs:label\n",
            "\n",
            "Violation for inst:FlowTerminal_33464\n",
            "Less than 2 values on inst:FlowTerminal_33464->rdfs:label\n",
            "\n",
            "Violation for inst:Wall_10902\n",
            "Less than 2 values on inst:Wall_10902->rdfs:label\n",
            "\n",
            "Violation for inst:Plate_10743\n",
            "Less than 2 values on inst:Plate_10743->rdfs:label\n",
            "\n",
            "Violation for inst:FlowTerminal_33506\n",
            "Less than 2 values on inst:FlowTerminal_33506->rdfs:label\n",
            "\n",
            "Violation for inst:Furniture_29916\n",
            "Less than 2 values on inst:Furniture_29916->rdfs:label\n",
            "\n",
            "Violation for inst:Door_25587\n",
            "Less than 2 values on inst:Door_25587->rdfs:label\n",
            "\n",
            "Violation for inst:OpeningElement_57205\n",
            "Less than 2 values on inst:OpeningElement_57205->rdfs:label\n",
            "\n",
            "Violation for inst:Furniture_29866\n",
            "Less than 2 values on inst:Furniture_29866->rdfs:label\n",
            "\n",
            "Violation for inst:OpeningElement_57081\n",
            "Less than 2 values on inst:OpeningElement_57081->rdfs:label\n",
            "\n",
            "Violation for inst:Window_10515\n",
            "Less than 2 values on inst:Window_10515->rdfs:label\n",
            "\n",
            "Violation for inst:FlowTerminal_33530\n",
            "Less than 2 values on inst:FlowTerminal_33530->rdfs:label\n",
            "\n",
            "Violation for inst:FlowTerminal_45085\n",
            "Less than 2 values on inst:FlowTerminal_45085->rdfs:label\n",
            "\n",
            "Violation for inst:Door_9127\n",
            "Less than 2 values on inst:Door_9127->rdfs:label\n",
            "\n",
            "Violation for inst:Wall_1546\n",
            "Less than 2 values on inst:Wall_1546->rdfs:label\n",
            "\n",
            "Violation for inst:FlowTerminal_52911\n",
            "Less than 2 values on inst:FlowTerminal_52911->rdfs:label\n",
            "\n",
            "Violation for inst:Furniture_26977\n",
            "Less than 2 values on inst:Furniture_26977->rdfs:label\n",
            "\n",
            "Violation for inst:OpeningElement_57113\n",
            "Less than 2 values on inst:OpeningElement_57113->rdfs:label\n",
            "\n",
            "Violation for inst:OpeningElement_57144\n",
            "Less than 2 values on inst:OpeningElement_57144->rdfs:label\n",
            "\n",
            "Violation for inst:Furniture_29941\n",
            "Less than 2 values on inst:Furniture_29941->rdfs:label\n",
            "\n",
            "Violation for inst:Wall_1514\n",
            "Less than 2 values on inst:Wall_1514->rdfs:label\n",
            "\n",
            "Violation for inst:Window_10125\n",
            "Less than 2 values on inst:Window_10125->rdfs:label\n",
            "\n",
            "Violation for inst:Roof_10541\n",
            "Less than 2 values on inst:Roof_10541->rdfs:label\n",
            "\n",
            "Violation for inst:Window_10101\n",
            "Less than 2 values on inst:Window_10101->rdfs:label\n",
            "\n",
            "Violation for inst:Plate_10697\n",
            "Less than 2 values on inst:Plate_10697->rdfs:label\n",
            "\n",
            "Violation for inst:Plate_10685\n",
            "Less than 2 values on inst:Plate_10685->rdfs:label\n",
            "\n",
            "Violation for inst:Furniture_26953\n",
            "Less than 2 values on inst:Furniture_26953->rdfs:label\n",
            "\n",
            "Violation for inst:Plate_10709\n",
            "Less than 2 values on inst:Plate_10709->rdfs:label\n",
            "\n",
            "Violation for inst:Window_9593\n",
            "Less than 2 values on inst:Window_9593->rdfs:label\n",
            "\n",
            "Violation for inst:OpeningElement_57175\n",
            "Less than 2 values on inst:OpeningElement_57175->rdfs:label\n",
            "\n",
            "Violation for inst:Furniture_27025\n",
            "Less than 2 values on inst:Furniture_27025->rdfs:label\n",
            "\n",
            "Violation for inst:Furniture_26912\n",
            "Less than 2 values on inst:Furniture_26912->rdfs:label\n",
            "\n",
            "Violation for inst:OpeningElement_57190\n",
            "Less than 2 values on inst:OpeningElement_57190->rdfs:label\n",
            "\n",
            "Violation for inst:Wall_1578\n",
            "Less than 2 values on inst:Wall_1578->rdfs:label\n",
            "\n",
            "Violation for inst:Furniture_45556\n",
            "Less than 2 values on inst:Furniture_45556->rdfs:label\n",
            "\n",
            "Violation for inst:Furniture_45604\n",
            "Less than 2 values on inst:Furniture_45604->rdfs:label\n",
            "\n",
            "Violation for inst:OpeningElement_57101\n",
            "Less than 2 values on inst:OpeningElement_57101->rdfs:label\n",
            "\n",
            "Violation for inst:Door_39685\n",
            "Less than 2 values on inst:Door_39685->rdfs:label\n",
            "\n",
            "Violation for inst:Wall_1654\n",
            "Less than 2 values on inst:Wall_1654->rdfs:label\n",
            "\n",
            "Violation for inst:Furniture_45652\n",
            "Less than 2 values on inst:Furniture_45652->rdfs:label\n",
            "\n",
            "Violation for inst:Slab_10558\n",
            "Less than 2 values on inst:Slab_10558->rdfs:label\n",
            "\n",
            "Violation for inst:Furniture_29842\n",
            "Less than 2 values on inst:Furniture_29842->rdfs:label\n",
            "\n",
            "Violation for inst:Furniture_45580\n",
            "Less than 2 values on inst:Furniture_45580->rdfs:label\n",
            "\n",
            "Violation for inst:CurtainWall_10627\n",
            "Less than 2 values on inst:CurtainWall_10627->rdfs:label\n",
            "\n",
            "Violation for inst:Furniture_26485\n",
            "Less than 2 values on inst:Furniture_26485->rdfs:label\n",
            "\n",
            "Violation for inst:Furniture_45628\n",
            "Less than 2 values on inst:Furniture_45628->rdfs:label\n",
            "\n",
            "Violation for inst:FlowTerminal_45124\n",
            "Less than 2 values on inst:FlowTerminal_45124->rdfs:label\n",
            "\n",
            "Violation for inst:Door_18246\n",
            "Less than 2 values on inst:Door_18246->rdfs:label\n",
            "\n",
            "Violation for inst:Plate_10661\n",
            "Less than 2 values on inst:Plate_10661->rdfs:label\n",
            "\n",
            "Violation for inst:Furniture_26390\n",
            "Less than 2 values on inst:Furniture_26390->rdfs:label\n",
            "\n",
            "--- 0.7148282527923584 seconds ---\n"
          ]
        }
      ]
    },
    {
      "cell_type": "markdown",
      "source": [
        "**Real-time inference**"
      ],
      "metadata": {
        "id": "YgKqq7SPqVmx"
      }
    },
    {
      "cell_type": "code",
      "source": [
        "# rdfs inference\n",
        "start_time = time.time()\n",
        "report_graph, report_dict = read_SHACL_report(data_graph_correct, shape_inferencetest2,  ont_graph_custom+ont_graph_alignment)\n",
        "print(\"--- %s seconds ---\" % (time.time() - start_time))"
      ],
      "metadata": {
        "colab": {
          "base_uri": "https://localhost:8080/"
        },
        "outputId": "a149f7e8-4af8-43b0-a99f-40ca4c7387f2",
        "id": "4iNA35TLqXpA"
      },
      "execution_count": 42,
      "outputs": [
        {
          "output_type": "stream",
          "name": "stdout",
          "text": [
            "Violation for inst:OpeningElement_57175\n",
            "Less than 2 values on inst:OpeningElement_57175->rdfs:label\n",
            "\n",
            "Violation for inst:Furniture_45604\n",
            "Less than 2 values on inst:Furniture_45604->rdfs:label\n",
            "\n",
            "Violation for inst:Wall_45085\n",
            "Less than 2 values on inst:Wall_45085->rdfs:label\n",
            "\n",
            "Violation for inst:Window_18275\n",
            "Less than 2 values on inst:Window_18275->rdfs:label\n",
            "\n",
            "Violation for inst:OpeningElement_57129\n",
            "Less than 2 values on inst:OpeningElement_57129->rdfs:label\n",
            "\n",
            "Violation for inst:Wall_29802\n",
            "Less than 2 values on inst:Wall_29802->rdfs:label\n",
            "\n",
            "Violation for inst:Wall_1402\n",
            "Less than 2 values on inst:Wall_1402->rdfs:label\n",
            "\n",
            "Violation for inst:FlowTerminal_33506\n",
            "Less than 2 values on inst:FlowTerminal_33506->rdfs:label\n",
            "\n",
            "Violation for inst:Wall_45628\n",
            "Less than 2 values on inst:Wall_45628->rdfs:label\n",
            "\n",
            "Violation for inst:Wall_26977\n",
            "Less than 2 values on inst:Wall_26977->rdfs:label\n",
            "\n",
            "Violation for inst:FlowTerminal_45085\n",
            "Less than 2 values on inst:FlowTerminal_45085->rdfs:label\n",
            "\n",
            "Violation for inst:Wall_1578\n",
            "Less than 2 values on inst:Wall_1578->rdfs:label\n",
            "\n",
            "Violation for inst:Window_9593\n",
            "Less than 2 values on inst:Window_9593->rdfs:label\n",
            "\n",
            "Violation for inst:Wall_26390\n",
            "Less than 2 values on inst:Wall_26390->rdfs:label\n",
            "\n",
            "Violation for inst:FlowTerminal_33554\n",
            "Less than 2 values on inst:FlowTerminal_33554->rdfs:label\n",
            "\n",
            "Violation for inst:FlowTerminal_33464\n",
            "Less than 2 values on inst:FlowTerminal_33464->rdfs:label\n",
            "\n",
            "Violation for inst:Wall_45518\n",
            "Less than 2 values on inst:Wall_45518->rdfs:label\n",
            "\n",
            "Violation for inst:Furniture_27001\n",
            "Less than 2 values on inst:Furniture_27001->rdfs:label\n",
            "\n",
            "Violation for inst:Furniture_45518\n",
            "Less than 2 values on inst:Furniture_45518->rdfs:label\n",
            "\n",
            "Violation for inst:Furniture_29966\n",
            "Less than 2 values on inst:Furniture_29966->rdfs:label\n",
            "\n",
            "Violation for inst:Wall_26912\n",
            "Less than 2 values on inst:Wall_26912->rdfs:label\n",
            "\n",
            "Violation for inst:OpeningElement_57144\n",
            "Less than 2 values on inst:OpeningElement_57144->rdfs:label\n",
            "\n",
            "Violation for inst:Furniture_26977\n",
            "Less than 2 values on inst:Furniture_26977->rdfs:label\n",
            "\n",
            "Violation for inst:OpeningElement_57101\n",
            "Less than 2 values on inst:OpeningElement_57101->rdfs:label\n",
            "\n",
            "Violation for inst:Wall_45604\n",
            "Less than 2 values on inst:Wall_45604->rdfs:label\n",
            "\n",
            "Violation for inst:CurtainWall_10627\n",
            "Less than 2 values on inst:CurtainWall_10627->rdfs:label\n",
            "\n",
            "Violation for inst:OpeningElement_57160\n",
            "Less than 2 values on inst:OpeningElement_57160->rdfs:label\n",
            "\n",
            "Violation for inst:Wall_29941\n",
            "Less than 2 values on inst:Wall_29941->rdfs:label\n",
            "\n",
            "Violation for inst:Wall_10934\n",
            "Less than 2 values on inst:Wall_10934->rdfs:label\n",
            "\n",
            "Violation for inst:Wall_1514\n",
            "Less than 2 values on inst:Wall_1514->rdfs:label\n",
            "\n",
            "Violation for inst:OpeningElement_57113\n",
            "Less than 2 values on inst:OpeningElement_57113->rdfs:label\n",
            "\n",
            "Violation for inst:Wall_33530\n",
            "Less than 2 values on inst:Wall_33530->rdfs:label\n",
            "\n",
            "Violation for inst:Slab_1153\n",
            "Less than 2 values on inst:Slab_1153->rdfs:label\n",
            "\n",
            "Violation for inst:Window_10515\n",
            "Less than 2 values on inst:Window_10515->rdfs:label\n",
            "\n",
            "Violation for inst:Plate_10697\n",
            "Less than 2 values on inst:Plate_10697->rdfs:label\n",
            "\n",
            "Violation for inst:Wall_52911\n",
            "Less than 2 values on inst:Wall_52911->rdfs:label\n",
            "\n",
            "Violation for inst:Door_9127\n",
            "Less than 2 values on inst:Door_9127->rdfs:label\n",
            "\n",
            "Violation for inst:Wall_33554\n",
            "Less than 2 values on inst:Wall_33554->rdfs:label\n",
            "\n",
            "Violation for inst:Plate_10709\n",
            "Less than 2 values on inst:Plate_10709->rdfs:label\n",
            "\n",
            "Violation for inst:Wall_45580\n",
            "Less than 2 values on inst:Wall_45580->rdfs:label\n",
            "\n",
            "Violation for inst:Door_18246\n",
            "Less than 2 values on inst:Door_18246->rdfs:label\n",
            "\n",
            "Violation for inst:Plate_10743\n",
            "Less than 2 values on inst:Plate_10743->rdfs:label\n",
            "\n",
            "Violation for inst:Wall_33506\n",
            "Less than 2 values on inst:Wall_33506->rdfs:label\n",
            "\n",
            "Violation for inst:Wall_45556\n",
            "Less than 2 values on inst:Wall_45556->rdfs:label\n",
            "\n",
            "Violation for inst:Furniture_45628\n",
            "Less than 2 values on inst:Furniture_45628->rdfs:label\n",
            "\n",
            "Violation for inst:Furniture_29891\n",
            "Less than 2 values on inst:Furniture_29891->rdfs:label\n",
            "\n",
            "Violation for inst:Furniture_45580\n",
            "Less than 2 values on inst:Furniture_45580->rdfs:label\n",
            "\n",
            "Violation for inst:Wall_29966\n",
            "Less than 2 values on inst:Wall_29966->rdfs:label\n",
            "\n",
            "Violation for inst:Wall_33464\n",
            "Less than 2 values on inst:Wall_33464->rdfs:label\n",
            "\n",
            "Violation for inst:Wall_1546\n",
            "Less than 2 values on inst:Wall_1546->rdfs:label\n",
            "\n",
            "Violation for inst:Furniture_29802\n",
            "Less than 2 values on inst:Furniture_29802->rdfs:label\n",
            "\n",
            "Violation for inst:Slab_10558\n",
            "Less than 2 values on inst:Slab_10558->rdfs:label\n",
            "\n",
            "Violation for inst:FlowTerminal_45124\n",
            "Less than 2 values on inst:FlowTerminal_45124->rdfs:label\n",
            "\n",
            "Violation for inst:OpeningElement_57051\n",
            "Less than 2 values on inst:OpeningElement_57051->rdfs:label\n",
            "\n",
            "Violation for inst:Furniture_29941\n",
            "Less than 2 values on inst:Furniture_29941->rdfs:label\n",
            "\n",
            "Violation for inst:OpeningElement_57190\n",
            "Less than 2 values on inst:OpeningElement_57190->rdfs:label\n",
            "\n",
            "Violation for inst:Wall_1727\n",
            "Less than 2 values on inst:Wall_1727->rdfs:label\n",
            "\n",
            "Violation for inst:Furniture_29916\n",
            "Less than 2 values on inst:Furniture_29916->rdfs:label\n",
            "\n",
            "Violation for inst:Wall_27049\n",
            "Less than 2 values on inst:Wall_27049->rdfs:label\n",
            "\n",
            "Violation for inst:Wall_27025\n",
            "Less than 2 values on inst:Wall_27025->rdfs:label\n",
            "\n",
            "Violation for inst:Wall_45652\n",
            "Less than 2 values on inst:Wall_45652->rdfs:label\n",
            "\n",
            "Violation for inst:OpeningElement_57066\n",
            "Less than 2 values on inst:OpeningElement_57066->rdfs:label\n",
            "\n",
            "Violation for inst:Wall_29842\n",
            "Less than 2 values on inst:Wall_29842->rdfs:label\n",
            "\n",
            "Violation for inst:Plate_10685\n",
            "Less than 2 values on inst:Plate_10685->rdfs:label\n",
            "\n",
            "Violation for inst:Wall_29916\n",
            "Less than 2 values on inst:Wall_29916->rdfs:label\n",
            "\n",
            "Violation for inst:Door_25587\n",
            "Less than 2 values on inst:Door_25587->rdfs:label\n",
            "\n",
            "Violation for inst:OpeningElement_57081\n",
            "Less than 2 values on inst:OpeningElement_57081->rdfs:label\n",
            "\n",
            "Violation for inst:Furniture_26912\n",
            "Less than 2 values on inst:Furniture_26912->rdfs:label\n",
            "\n",
            "Violation for inst:Door_39685\n",
            "Less than 2 values on inst:Door_39685->rdfs:label\n",
            "\n",
            "Violation for inst:Furniture_27025\n",
            "Less than 2 values on inst:Furniture_27025->rdfs:label\n",
            "\n",
            "Violation for inst:Window_10101\n",
            "Less than 2 values on inst:Window_10101->rdfs:label\n",
            "\n",
            "Violation for inst:Wall_10902\n",
            "Less than 2 values on inst:Wall_10902->rdfs:label\n",
            "\n",
            "Violation for inst:Furniture_27049\n",
            "Less than 2 values on inst:Furniture_27049->rdfs:label\n",
            "\n",
            "Violation for inst:OpeningElement_57205\n",
            "Less than 2 values on inst:OpeningElement_57205->rdfs:label\n",
            "\n",
            "Violation for inst:Furniture_45556\n",
            "Less than 2 values on inst:Furniture_45556->rdfs:label\n",
            "\n",
            "Violation for inst:Wall_26953\n",
            "Less than 2 values on inst:Wall_26953->rdfs:label\n",
            "\n",
            "Violation for inst:Furniture_45652\n",
            "Less than 2 values on inst:Furniture_45652->rdfs:label\n",
            "\n",
            "Violation for inst:Wall_29891\n",
            "Less than 2 values on inst:Wall_29891->rdfs:label\n",
            "\n",
            "Violation for inst:FlowTerminal_52911\n",
            "Less than 2 values on inst:FlowTerminal_52911->rdfs:label\n",
            "\n",
            "Violation for inst:Wall_26485\n",
            "Less than 2 values on inst:Wall_26485->rdfs:label\n",
            "\n",
            "Violation for inst:Furniture_26953\n",
            "Less than 2 values on inst:Furniture_26953->rdfs:label\n",
            "\n",
            "Violation for inst:Wall_1654\n",
            "Less than 2 values on inst:Wall_1654->rdfs:label\n",
            "\n",
            "Violation for inst:Furniture_26390\n",
            "Less than 2 values on inst:Furniture_26390->rdfs:label\n",
            "\n",
            "Violation for inst:Roof_10541\n",
            "Less than 2 values on inst:Roof_10541->rdfs:label\n",
            "\n",
            "Violation for inst:Wall_1786\n",
            "Less than 2 values on inst:Wall_1786->rdfs:label\n",
            "\n",
            "Violation for inst:Furniture_29842\n",
            "Less than 2 values on inst:Furniture_29842->rdfs:label\n",
            "\n",
            "Violation for inst:Wall_27001\n",
            "Less than 2 values on inst:Wall_27001->rdfs:label\n",
            "\n",
            "Violation for inst:Furniture_29866\n",
            "Less than 2 values on inst:Furniture_29866->rdfs:label\n",
            "\n",
            "Violation for inst:Window_10125\n",
            "Less than 2 values on inst:Window_10125->rdfs:label\n",
            "\n",
            "Violation for inst:Furniture_26485\n",
            "Less than 2 values on inst:Furniture_26485->rdfs:label\n",
            "\n",
            "Violation for inst:Window_10033\n",
            "Less than 2 values on inst:Window_10033->rdfs:label\n",
            "\n",
            "Violation for inst:Plate_10673\n",
            "Less than 2 values on inst:Plate_10673->rdfs:label\n",
            "\n",
            "Violation for inst:Wall_29866\n",
            "Less than 2 values on inst:Wall_29866->rdfs:label\n",
            "\n",
            "Violation for inst:FlowTerminal_33530\n",
            "Less than 2 values on inst:FlowTerminal_33530->rdfs:label\n",
            "\n",
            "Violation for inst:Plate_10661\n",
            "Less than 2 values on inst:Plate_10661->rdfs:label\n",
            "\n",
            "Violation for inst:Wall_45124\n",
            "Less than 2 values on inst:Wall_45124->rdfs:label\n",
            "\n",
            "--- 202.1214039325714 seconds ---\n"
          ]
        }
      ]
    },
    {
      "cell_type": "markdown",
      "source": [
        "## Test 3"
      ],
      "metadata": {
        "id": "uyTBlR7m3qjP"
      }
    },
    {
      "cell_type": "markdown",
      "source": [
        "The following function should return all spatial elements except for compartments and escape routes (i.e. site, building, storey and space), since they are part of bot:Zone as can be inferred from BOT."
      ],
      "metadata": {
        "id": "BhFiHL5RrHzz"
      }
    },
    {
      "cell_type": "code",
      "source": [
        "shape_inferencetest3 = '''\n",
        "ex:inferencetest3\n",
        "    a sh:NodeShape ;\n",
        "    sh:target [\n",
        "        a sh:SPARQLTarget ;\n",
        "        sh:select \"\"\"\n",
        "            SELECT DISTINCT ?this WHERE {\n",
        "                { ?this a bot:Zone . }\n",
        "                MINUS\n",
        "                { ?this a bot:Element . }\n",
        "            }\n",
        "        \"\"\" ;\n",
        "    ] ;\n",
        "    sh:property [\n",
        "        sh:path rdfs:label ;\n",
        "        sh:minCount 2 ;\n",
        "    ] .\n",
        "'''"
      ],
      "metadata": {
        "id": "R3nbXq2-rHp4"
      },
      "execution_count": 43,
      "outputs": []
    },
    {
      "cell_type": "markdown",
      "source": [
        "**No inference**\n",
        "\n",
        "Without using ontologies for inference, only instances with explicitly the requested class are returned, which do not exist in the use case graph:"
      ],
      "metadata": {
        "id": "9HH_h-KgLzeT"
      }
    },
    {
      "cell_type": "code",
      "source": [
        "start_time = time.time()\n",
        "report_graph, report_dict = read_SHACL_report(data_graph_correct, shape_inferencetest3)\n",
        "print(\"--- %s seconds ---\" % (time.time() - start_time))"
      ],
      "metadata": {
        "colab": {
          "base_uri": "https://localhost:8080/"
        },
        "id": "fZ_6h5MdL0Xq",
        "outputId": "b91889a6-6a5d-4a21-b5a4-241fd9629cc9"
      },
      "execution_count": 44,
      "outputs": [
        {
          "output_type": "stream",
          "name": "stdout",
          "text": [
            "Model complies with regulations\n",
            "--- 0.4064347743988037 seconds ---\n"
          ]
        }
      ]
    },
    {
      "cell_type": "markdown",
      "source": [
        "**Materialization**\n",
        "\n",
        "This method uses a materialized data graph to find inferred data"
      ],
      "metadata": {
        "id": "IBL7bUg9NRN4"
      }
    },
    {
      "cell_type": "code",
      "source": [
        "start_time = time.time()\n",
        "report_graph, report_dict = read_SHACL_report(data_graph_correct_materialized, shape_inferencetest3)\n",
        "print(\"--- %s seconds ---\" % (time.time() - start_time))"
      ],
      "metadata": {
        "colab": {
          "base_uri": "https://localhost:8080/"
        },
        "id": "ShgkT2fRZxAC",
        "outputId": "79b8733f-0ed1-490a-be55-84fcba9f3f7b"
      },
      "execution_count": 45,
      "outputs": [
        {
          "output_type": "stream",
          "name": "stdout",
          "text": [
            "Violation for inst:Space_903\n",
            "Less than 2 values on inst:Space_903->rdfs:label\n",
            "\n",
            "Violation for inst:Space_327\n",
            "Less than 2 values on inst:Space_327->rdfs:label\n",
            "\n",
            "Violation for inst:Space_145\n",
            "Less than 2 values on inst:Space_145->rdfs:label\n",
            "\n",
            "Violation for inst:Space_506\n",
            "Less than 2 values on inst:Space_506->rdfs:label\n",
            "\n",
            "Violation for inst:Space_781\n",
            "Less than 2 values on inst:Space_781->rdfs:label\n",
            "\n",
            "--- 0.6763644218444824 seconds ---\n"
          ]
        }
      ]
    },
    {
      "cell_type": "markdown",
      "source": [
        "**Real-time inference**\n",
        "\n",
        "This requires no materialization of data graphs, which makes the input more flexible but it can be a lot slower for individual queries"
      ],
      "metadata": {
        "id": "oXR1dJn0L0qj"
      }
    },
    {
      "cell_type": "code",
      "source": [
        "# rdfs inference\n",
        "start_time = time.time()\n",
        "report_graph, report_dict = read_SHACL_report(data_graph_correct, shape_inferencetest3, ont_graph_custom+ont_graph_alignment)\n",
        "print(\"--- %s seconds ---\" % (time.time() - start_time))"
      ],
      "metadata": {
        "colab": {
          "base_uri": "https://localhost:8080/"
        },
        "id": "VG86X_bn3wwM",
        "outputId": "87e0be54-29a1-4416-c10f-1fccbd534db6"
      },
      "execution_count": 46,
      "outputs": [
        {
          "output_type": "stream",
          "name": "stdout",
          "text": [
            "Violation for inst:Space_506\n",
            "Less than 2 values on inst:Space_506->rdfs:label\n",
            "\n",
            "Violation for inst:Space_781\n",
            "Less than 2 values on inst:Space_781->rdfs:label\n",
            "\n",
            "Violation for inst:Building_110\n",
            "Less than 2 values on inst:Building_110->rdfs:label\n",
            "\n",
            "Violation for inst:Site_120\n",
            "Less than 2 values on inst:Site_120->rdfs:label\n",
            "\n",
            "Violation for inst:Space_145\n",
            "Less than 2 values on inst:Space_145->rdfs:label\n",
            "\n",
            "Violation for inst:Storey_117\n",
            "Less than 2 values on inst:Storey_117->rdfs:label\n",
            "\n",
            "Violation for inst:Space_903\n",
            "Less than 2 values on inst:Space_903->rdfs:label\n",
            "\n",
            "Violation for inst:Space_327\n",
            "Less than 2 values on inst:Space_327->rdfs:label\n",
            "\n",
            "Violation for inst:Storey_113\n",
            "Less than 2 values on inst:Storey_113->rdfs:label\n",
            "\n",
            "--- 198.69516897201538 seconds ---\n"
          ]
        }
      ]
    },
    {
      "cell_type": "markdown",
      "source": [
        "## Comparison of approaches using the subset shapes\n",
        "\n",
        "*(commented out since this takes a long time!)*"
      ],
      "metadata": {
        "id": "iq93GL-hrZ7k"
      }
    },
    {
      "cell_type": "code",
      "source": [
        "# import contextlib\n",
        "# import io\n",
        "\n",
        "# f = io.StringIO()\n",
        "# def time_validation(data_graph, shapes_graph, ont_graph=None, inference=None, n=1):\n",
        "#     l_times = []\n",
        "#     while len(l_times) < n: # repeat the measurement n times in order to get a more reliable sample size\n",
        "#         start_time = time.time()\n",
        "#         with contextlib.redirect_stdout(f):\n",
        "#             result = read_SHACL_report(data_graph, shapes_graph, ont_graph, inference)\n",
        "#             l_times.append(time.time() - start_time)\n",
        "#     return l_times\n",
        "\n",
        "# l_comparison = []\n",
        "# for shape in shapes_graph.split('\\n\\n\\n'):\n",
        "#     l_times = time_validation(data_graph_correct, shape, n=2)\n",
        "#     l_comparison.append([shape.lstrip('\\n').split('\\n')[0], 'no inference', 'correct use case', sum(l_times)/len(l_times)])\n",
        "#     print(l_comparison[-1])\n",
        "#     l_times = time_validation(data_graph_incorrect, shape, n=2)\n",
        "#     l_comparison.append([shape.lstrip('\\n').split('\\n')[0], 'no inference', 'incorrect use case', sum(l_times)/len(l_times)])\n",
        "#     print(l_comparison[-1])\n",
        "# for shape in shapes_graph.split('\\n\\n\\n'):\n",
        "#     l_times = time_validation(data_graph_correct_materialized, shape, n=2)\n",
        "#     l_comparison.append([shape.lstrip('\\n').split('\\n')[0], 'materialized', 'correct use case', sum(l_times)/len(l_times)])\n",
        "#     print(l_comparison[-1])\n",
        "#     l_times = time_validation(data_graph_incorrect_materialized, shape, n=2)\n",
        "#     l_comparison.append([shape.lstrip('\\n').split('\\n')[0], 'materialized', 'incorrect use case', sum(l_times)/len(l_times)])\n",
        "#     print(l_comparison[-1])\n",
        "# for shape in shapes_graph.split('\\n\\n\\n'):\n",
        "#     l_times = time_validation(data_graph_correct, shape, ont_graph_custom)\n",
        "#     l_comparison.append([shape.lstrip('\\n').split('\\n')[0], 'RDFS inference (internal only)', 'correct use case', sum(l_times)/len(l_times)])\n",
        "#     print(l_comparison[-1])\n",
        "#     l_times = time_validation(data_graph_incorrect, shape, ont_graph_custom)\n",
        "#     l_comparison.append([shape.lstrip('\\n').split('\\n')[0], 'RDFS inference (internal only)', 'incorrect use case', sum(l_times)/len(l_times)])\n",
        "#     print(l_comparison[-1])\n",
        "# for shape in shapes_graph.split('\\n\\n\\n'):\n",
        "#     l_times = time_validation(data_graph_correct, shape, ont_graph_custom, inference='owlrl')\n",
        "#     l_comparison.append([shape.lstrip('\\n').split('\\n')[0], 'OWL-RL inference (internal only)', 'correct use case', sum(l_times)/len(l_times)])\n",
        "#     print(l_comparison[-1])\n",
        "#     l_times = time_validation(data_graph_incorrect, shape, ont_graph_custom, inference='owlrl')\n",
        "#     l_comparison.append([shape.lstrip('\\n').split('\\n')[0], 'OWL-RL inference (internal only)', 'incorrect use case', sum(l_times)/len(l_times)])\n",
        "#     print(l_comparison[-1])\n",
        "# for shape in shapes_graph.split('\\n\\n\\n'):\n",
        "#     l_times = time_validation(data_graph_correct, shape, ont_graph_custom+ont_graph_alignment)\n",
        "#     l_comparison.append([shape.lstrip('\\n').split('\\n')[0], 'RDFS inference (internal+external)', 'correct use case', sum(l_times)/len(l_times)])\n",
        "#     print(l_comparison[-1])\n",
        "#     l_times = time_validation(data_graph_incorrect, shape, ont_graph_custom+ont_graph_alignment)\n",
        "#     l_comparison.append([shape.lstrip('\\n').split('\\n')[0], 'RDFS inference (internal+external)', 'incorrect use case', sum(l_times)/len(l_times)])\n",
        "#     print(l_comparison[-1])\n",
        "# for shape in shapes_graph.split('\\n\\n\\n'):\n",
        "#     l_times = time_validation(data_graph_correct, shape, ont_graph_custom+ont_graph_alignment, inference='owlrl')\n",
        "#     l_comparison.append([shape.lstrip('\\n').split('\\n')[0], 'OWL-RL inference (internal+external)', 'correct use case', sum(l_times)/len(l_times)])\n",
        "#     print(l_comparison[-1])\n",
        "#     l_times = time_validation(data_graph_incorrect, shape, ont_graph_custom+ont_graph_alignment, inference='owlrl')\n",
        "#     l_comparison.append([shape.lstrip('\\n').split('\\n')[0], 'OWL-RL inference (internal+external)', 'incorrect use case', sum(l_times)/len(l_times)])\n",
        "#     print(l_comparison[-1])\n",
        "#\n",
        "# # get all methods from list\n",
        "# print(\"RESULTS:\")\n",
        "# cc_methods = set(x[1] for x in l_comparison)\n",
        "# for m in cc_methods:\n",
        "#   measurements = [x[-1] for x in l_comparison if x[1] == m]\n",
        "#   print(m, sum(measurements)/len(measurements))"
      ],
      "metadata": {
        "id": "RrhcNCRxrlwx"
      },
      "execution_count": 47,
      "outputs": []
    },
    {
      "cell_type": "markdown",
      "source": [
        "**RESULTS:**\n",
        "* no inference 0.59s\n",
        "* materialized 1.35s\n",
        "* RDFS inference (internal only) 6.12s\n",
        "* OWL-RL inference (internal only) 6.54s\n",
        "* RDFS inference (internal+external) 190s\n",
        "* OWL-RL inference (internal+external) 202s"
      ],
      "metadata": {
        "id": "hYbBY5kP79g8"
      }
    },
    {
      "cell_type": "markdown",
      "source": [
        "*Materialization of the data graph using internal+external ontologies only took approximately 7 seconds, which means that materialization is a lot faster even for running a single SHACL shape.*"
      ],
      "metadata": {
        "id": "dSWnzC23-GDg"
      }
    },
    {
      "cell_type": "markdown",
      "source": [
        "*Also, performing real-time inference using OWL-RL instead of RDFS can take a lot longer, while materialization using OWL-RL instead of RDFS does not require extra time.*"
      ],
      "metadata": {
        "id": "XzCgNgQA9z-i"
      }
    }
  ]
}
